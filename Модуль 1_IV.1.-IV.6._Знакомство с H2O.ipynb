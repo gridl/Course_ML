{
 "cells": [
  {
   "cell_type": "code",
   "execution_count": 1,
   "metadata": {},
   "outputs": [],
   "source": [
    "# импортируем библиотеки pandas и numpy\n",
    "import pandas as pd\n",
    "import numpy as np"
   ]
  },
  {
   "cell_type": "code",
   "execution_count": 2,
   "metadata": {},
   "outputs": [
    {
     "data": {
      "text/html": [
       "<div>\n",
       "<style scoped>\n",
       "    .dataframe tbody tr th:only-of-type {\n",
       "        vertical-align: middle;\n",
       "    }\n",
       "\n",
       "    .dataframe tbody tr th {\n",
       "        vertical-align: top;\n",
       "    }\n",
       "\n",
       "    .dataframe thead th {\n",
       "        text-align: right;\n",
       "    }\n",
       "</style>\n",
       "<table border=\"1\" class=\"dataframe\">\n",
       "  <thead>\n",
       "    <tr style=\"text-align: right;\">\n",
       "      <th></th>\n",
       "      <th>Customer Lifetime Value</th>\n",
       "      <th>Income</th>\n",
       "      <th>Monthly Premium Auto</th>\n",
       "      <th>Months Since Last Claim</th>\n",
       "      <th>Months Since Policy Inception</th>\n",
       "      <th>Number of Open Complaints</th>\n",
       "      <th>Number of Policies</th>\n",
       "      <th>Response</th>\n",
       "    </tr>\n",
       "  </thead>\n",
       "  <tbody>\n",
       "    <tr>\n",
       "      <th>0</th>\n",
       "      <td>18975.456110</td>\n",
       "      <td>65999</td>\n",
       "      <td>237</td>\n",
       "      <td>1</td>\n",
       "      <td>14</td>\n",
       "      <td>0</td>\n",
       "      <td>6</td>\n",
       "      <td>0</td>\n",
       "    </tr>\n",
       "    <tr>\n",
       "      <th>1</th>\n",
       "      <td>4715.321344</td>\n",
       "      <td>0</td>\n",
       "      <td>65</td>\n",
       "      <td>19</td>\n",
       "      <td>56</td>\n",
       "      <td>0</td>\n",
       "      <td>3</td>\n",
       "      <td>0</td>\n",
       "    </tr>\n",
       "    <tr>\n",
       "      <th>2</th>\n",
       "      <td>5018.885233</td>\n",
       "      <td>54500</td>\n",
       "      <td>63</td>\n",
       "      <td>28</td>\n",
       "      <td>17</td>\n",
       "      <td>0</td>\n",
       "      <td>6</td>\n",
       "      <td>0</td>\n",
       "    </tr>\n",
       "  </tbody>\n",
       "</table>\n",
       "</div>"
      ],
      "text/plain": [
       "   Customer Lifetime Value  Income  Monthly Premium Auto  \\\n",
       "0             18975.456110   65999                   237   \n",
       "1              4715.321344       0                    65   \n",
       "2              5018.885233   54500                    63   \n",
       "\n",
       "   Months Since Last Claim  Months Since Policy Inception  \\\n",
       "0                        1                             14   \n",
       "1                       19                             56   \n",
       "2                       28                             17   \n",
       "\n",
       "   Number of Open Complaints  Number of Policies  Response  \n",
       "0                          0                   6         0  \n",
       "1                          0                   3         0  \n",
       "2                          0                   6         0  "
      ]
     },
     "execution_count": 2,
     "metadata": {},
     "output_type": "execute_result"
    }
   ],
   "source": [
    "# записываем CSV-файл в объект DataFrame\n",
    "data = pd.read_csv('Data/StateFarm.csv', sep=';')\n",
    "data.head(3)"
   ]
  },
  {
   "cell_type": "code",
   "execution_count": 3,
   "metadata": {},
   "outputs": [],
   "source": [
    "# импортируем функцию train_test_split(), с помощью\n",
    "# которой разбиваем данные на обучающие и тестовые\n",
    "from sklearn.model_selection import train_test_split\n",
    "# разбиваем данные на обучающие и тестовые: получаем обучающий\n",
    "# массив признаков, тестовый массив признаков, обучающий массив\n",
    "# меток, тестовый массив меток\n",
    "X_train, X_test, y_train, y_test = train_test_split(data.drop('Response', axis=1), \n",
    "                                                    data['Response'], \n",
    "                                                    test_size=0.3,\n",
    "                                                    stratify=data['Response'],\n",
    "                                                    random_state=42)"
   ]
  },
  {
   "cell_type": "code",
   "execution_count": 4,
   "metadata": {
    "scrolled": true
   },
   "outputs": [
    {
     "name": "stdout",
     "output_type": "stream",
     "text": [
      "Checking whether there is an H2O instance running at http://localhost:54321..... not found.\n",
      "Attempting to start a local H2O server...\n",
      "  Java Version: java version \"1.8.0_202\"; Java(TM) SE Runtime Environment (build 1.8.0_202-b08); Java HotSpot(TM) 64-Bit Server VM (build 25.202-b08, mixed mode)\n",
      "  Starting server from /anaconda3/lib/python3.7/site-packages/h2o/backend/bin/h2o.jar\n",
      "  Ice root: /var/folders/y_/s7c_myjd7qg6zs3hcfflpgwr0000gn/T/tmpr5tnph0d\n",
      "  JVM stdout: /var/folders/y_/s7c_myjd7qg6zs3hcfflpgwr0000gn/T/tmpr5tnph0d/h2o_artemgruzdev_started_from_python.out\n",
      "  JVM stderr: /var/folders/y_/s7c_myjd7qg6zs3hcfflpgwr0000gn/T/tmpr5tnph0d/h2o_artemgruzdev_started_from_python.err\n",
      "  Server is running at http://127.0.0.1:54321\n",
      "Connecting to H2O server at http://127.0.0.1:54321... successful.\n"
     ]
    },
    {
     "data": {
      "text/html": [
       "<div style=\"overflow:auto\"><table style=\"width:50%\"><tr><td>H2O cluster uptime:</td>\n",
       "<td>01 secs</td></tr>\n",
       "<tr><td>H2O cluster timezone:</td>\n",
       "<td>Europe/Moscow</td></tr>\n",
       "<tr><td>H2O data parsing timezone:</td>\n",
       "<td>UTC</td></tr>\n",
       "<tr><td>H2O cluster version:</td>\n",
       "<td>3.22.1.5</td></tr>\n",
       "<tr><td>H2O cluster version age:</td>\n",
       "<td>2 months and 22 days </td></tr>\n",
       "<tr><td>H2O cluster name:</td>\n",
       "<td>H2O_from_python_artemgruzdev_wli1l6</td></tr>\n",
       "<tr><td>H2O cluster total nodes:</td>\n",
       "<td>1</td></tr>\n",
       "<tr><td>H2O cluster free memory:</td>\n",
       "<td>7.111 Gb</td></tr>\n",
       "<tr><td>H2O cluster total cores:</td>\n",
       "<td>12</td></tr>\n",
       "<tr><td>H2O cluster allowed cores:</td>\n",
       "<td>12</td></tr>\n",
       "<tr><td>H2O cluster status:</td>\n",
       "<td>accepting new members, healthy</td></tr>\n",
       "<tr><td>H2O connection url:</td>\n",
       "<td>http://127.0.0.1:54321</td></tr>\n",
       "<tr><td>H2O connection proxy:</td>\n",
       "<td>None</td></tr>\n",
       "<tr><td>H2O internal security:</td>\n",
       "<td>False</td></tr>\n",
       "<tr><td>H2O API Extensions:</td>\n",
       "<td>Amazon S3, XGBoost, Algos, AutoML, Core V3, Core V4</td></tr>\n",
       "<tr><td>Python version:</td>\n",
       "<td>3.7.1 final</td></tr></table></div>"
      ],
      "text/plain": [
       "--------------------------  ---------------------------------------------------\n",
       "H2O cluster uptime:         01 secs\n",
       "H2O cluster timezone:       Europe/Moscow\n",
       "H2O data parsing timezone:  UTC\n",
       "H2O cluster version:        3.22.1.5\n",
       "H2O cluster version age:    2 months and 22 days\n",
       "H2O cluster name:           H2O_from_python_artemgruzdev_wli1l6\n",
       "H2O cluster total nodes:    1\n",
       "H2O cluster free memory:    7.111 Gb\n",
       "H2O cluster total cores:    12\n",
       "H2O cluster allowed cores:  12\n",
       "H2O cluster status:         accepting new members, healthy\n",
       "H2O connection url:         http://127.0.0.1:54321\n",
       "H2O connection proxy:\n",
       "H2O internal security:      False\n",
       "H2O API Extensions:         Amazon S3, XGBoost, Algos, AutoML, Core V3, Core V4\n",
       "Python version:             3.7.1 final\n",
       "--------------------------  ---------------------------------------------------"
      ]
     },
     "metadata": {},
     "output_type": "display_data"
    }
   ],
   "source": [
    "# импортируем необходимые библиотеки\n",
    "import h2o\n",
    "import os\n",
    "h2o.init(nthreads=-1, max_mem_size=8)"
   ]
  },
  {
   "cell_type": "code",
   "execution_count": 5,
   "metadata": {},
   "outputs": [
    {
     "name": "stdout",
     "output_type": "stream",
     "text": [
      "Parse progress: |█████████████████████████████████████████████████████████| 100%\n",
      "Parse progress: |█████████████████████████████████████████████████████████| 100%\n"
     ]
    }
   ],
   "source": [
    "# конкатенируем обучающие массив признаков \n",
    "# и массив меток\n",
    "train = pd.concat([X_train, y_train], axis=1)\n",
    "# конкатенируем тестовые массив признаков \n",
    "# и массив меток\n",
    "test = pd.concat([X_test, y_test], axis=1)\n",
    "# преобразовываем датафреймы pandas во фреймы h2o\n",
    "tr = h2o.H2OFrame(train)\n",
    "tst = h2o.H2OFrame(test)"
   ]
  },
  {
   "cell_type": "code",
   "execution_count": 6,
   "metadata": {
    "scrolled": true
   },
   "outputs": [
    {
     "name": "stdout",
     "output_type": "stream",
     "text": [
      "Rows:5783\n",
      "Cols:8\n",
      "\n",
      "\n"
     ]
    },
    {
     "data": {
      "text/html": [
       "<table>\n",
       "<thead>\n",
       "<tr><th>       </th><th>Customer Lifetime Value  </th><th>Income           </th><th>Monthly Premium Auto  </th><th>Months Since Last Claim  </th><th>Months Since Policy Inception  </th><th>Number of Open Complaints  </th><th>Number of Policies  </th><th>Response           </th></tr>\n",
       "</thead>\n",
       "<tbody>\n",
       "<tr><td>type   </td><td>real                     </td><td>int              </td><td>int                   </td><td>int                      </td><td>int                            </td><td>int                        </td><td>int                 </td><td>int                </td></tr>\n",
       "<tr><td>mins   </td><td>1898.007675              </td><td>0.0              </td><td>61.0                  </td><td>0.0                      </td><td>0.0                            </td><td>0.0                        </td><td>1.0                 </td><td>0.0                </td></tr>\n",
       "<tr><td>mean   </td><td>8032.769846154935        </td><td>37840.9216669549 </td><td>93.14611793186961     </td><td>15.12588621822582        </td><td>48.13695313850944              </td><td>0.38422963859588494        </td><td>2.9332526370395993  </td><td>0.10012104444060177</td></tr>\n",
       "<tr><td>maxs   </td><td>83325.38119              </td><td>99981.0          </td><td>298.0                 </td><td>35.0                     </td><td>99.0                           </td><td>5.0                        </td><td>9.0                 </td><td>1.0                </td></tr>\n",
       "<tr><td>sigma  </td><td>7031.409016463689        </td><td>30652.71816091171</td><td>34.3799942891798      </td><td>10.104644065491298       </td><td>27.719663032389967             </td><td>0.9109656865217554         </td><td>2.3682231143012142  </td><td>0.30018728020055196</td></tr>\n",
       "<tr><td>zeros  </td><td>0                        </td><td>1486             </td><td>0                     </td><td>200                      </td><td>46                             </td><td>4604                       </td><td>0                   </td><td>5204               </td></tr>\n",
       "<tr><td>missing</td><td>0                        </td><td>0                </td><td>0                     </td><td>0                        </td><td>0                              </td><td>0                          </td><td>0                   </td><td>0                  </td></tr>\n",
       "<tr><td>0      </td><td>12200.78537              </td><td>60282.0          </td><td>102.0                 </td><td>23.0                     </td><td>87.0                           </td><td>0.0                        </td><td>2.0                 </td><td>0.0                </td></tr>\n",
       "<tr><td>1      </td><td>5330.593183              </td><td>84240.0          </td><td>132.0                 </td><td>10.0                     </td><td>51.0                           </td><td>0.0                        </td><td>1.0                 </td><td>0.0                </td></tr>\n",
       "<tr><td>2      </td><td>10426.08551              </td><td>52342.0          </td><td>66.0                  </td><td>28.0                     </td><td>28.0                           </td><td>3.0                        </td><td>2.0                 </td><td>0.0                </td></tr>\n",
       "<tr><td>3      </td><td>3744.577726              </td><td>0.0              </td><td>101.0                 </td><td>3.0                      </td><td>32.0                           </td><td>0.0                        </td><td>1.0                 </td><td>0.0                </td></tr>\n",
       "<tr><td>4      </td><td>2866.779811              </td><td>81763.0          </td><td>72.0                  </td><td>22.0                     </td><td>12.0                           </td><td>1.0                        </td><td>1.0                 </td><td>0.0                </td></tr>\n",
       "<tr><td>5      </td><td>7451.479990999999        </td><td>26239.0          </td><td>65.0                  </td><td>11.0                     </td><td>39.0                           </td><td>0.0                        </td><td>2.0                 </td><td>0.0                </td></tr>\n",
       "<tr><td>6      </td><td>8759.592518000001        </td><td>28280.0          </td><td>116.0                 </td><td>7.0                      </td><td>55.0                           </td><td>0.0                        </td><td>9.0                 </td><td>0.0                </td></tr>\n",
       "<tr><td>7      </td><td>5200.076742              </td><td>90167.0          </td><td>131.0                 </td><td>31.0                     </td><td>42.0                           </td><td>0.0                        </td><td>1.0                 </td><td>0.0                </td></tr>\n",
       "<tr><td>8      </td><td>10793.75704              </td><td>24195.0          </td><td>90.0                  </td><td>32.0                     </td><td>70.0                           </td><td>0.0                        </td><td>2.0                 </td><td>0.0                </td></tr>\n",
       "<tr><td>9      </td><td>8395.806331              </td><td>0.0              </td><td>110.0                 </td><td>22.0                     </td><td>72.0                           </td><td>0.0                        </td><td>9.0                 </td><td>0.0                </td></tr>\n",
       "</tbody>\n",
       "</table>"
      ]
     },
     "metadata": {},
     "output_type": "display_data"
    }
   ],
   "source": [
    "# смотрим содержимое фрейма\n",
    "tr.describe()"
   ]
  },
  {
   "cell_type": "code",
   "execution_count": 7,
   "metadata": {},
   "outputs": [],
   "source": [
    "# преобразовываем в категориальную переменную\n",
    "tr['Response'] = tr['Response'].asfactor()\n",
    "tst['Response'] = tst['Response'].asfactor()"
   ]
  },
  {
   "cell_type": "code",
   "execution_count": 8,
   "metadata": {},
   "outputs": [],
   "source": [
    "# задаем имя зависимой переменной\n",
    "dependent = 'Response'\n",
    "# задаем список имен предикторов\n",
    "predictors = list(tr.columns)\n",
    "# удаляем имя зависимой переменной \n",
    "# из списка имен предикторов\n",
    "predictors.remove(dependent)"
   ]
  },
  {
   "cell_type": "code",
   "execution_count": 9,
   "metadata": {},
   "outputs": [
    {
     "name": "stdout",
     "output_type": "stream",
     "text": [
      "glm Model Build progress: |███████████████████████████████████████████████| 100%\n"
     ]
    }
   ],
   "source": [
    "# импортируем класс H2OGeneralizedLinearEstimator\n",
    "from h2o.estimators.glm import H2OGeneralizedLinearEstimator\n",
    "# создаем экземпляр класса H2OGeneralizedLinearEstimator\n",
    "glm_model = H2OGeneralizedLinearEstimator(family='binomial')\n",
    "# обучаем модель\n",
    "glm_model.train(x = predictors, y = dependent, \n",
    "                training_frame=tr, validation_frame=tst)"
   ]
  },
  {
   "cell_type": "code",
   "execution_count": 11,
   "metadata": {},
   "outputs": [
    {
     "name": "stdout",
     "output_type": "stream",
     "text": [
      "glm prediction progress: |████████████████████████████████████████████████| 100%\n"
     ]
    },
    {
     "data": {
      "text/html": [
       "<table>\n",
       "<thead>\n",
       "<tr><th style=\"text-align: right;\">  predict</th><th style=\"text-align: right;\">      p0</th><th style=\"text-align: right;\">       p1</th></tr>\n",
       "</thead>\n",
       "<tbody>\n",
       "<tr><td style=\"text-align: right;\">        0</td><td style=\"text-align: right;\">0.910308</td><td style=\"text-align: right;\">0.0896917</td></tr>\n",
       "<tr><td style=\"text-align: right;\">        0</td><td style=\"text-align: right;\">0.89851 </td><td style=\"text-align: right;\">0.10149  </td></tr>\n",
       "<tr><td style=\"text-align: right;\">        1</td><td style=\"text-align: right;\">0.88301 </td><td style=\"text-align: right;\">0.11699  </td></tr>\n",
       "<tr><td style=\"text-align: right;\">        0</td><td style=\"text-align: right;\">0.902297</td><td style=\"text-align: right;\">0.0977026</td></tr>\n",
       "<tr><td style=\"text-align: right;\">        0</td><td style=\"text-align: right;\">0.925552</td><td style=\"text-align: right;\">0.0744484</td></tr>\n",
       "<tr><td style=\"text-align: right;\">        0</td><td style=\"text-align: right;\">0.904464</td><td style=\"text-align: right;\">0.0955355</td></tr>\n",
       "<tr><td style=\"text-align: right;\">        1</td><td style=\"text-align: right;\">0.880408</td><td style=\"text-align: right;\">0.119592 </td></tr>\n",
       "<tr><td style=\"text-align: right;\">        1</td><td style=\"text-align: right;\">0.883242</td><td style=\"text-align: right;\">0.116758 </td></tr>\n",
       "<tr><td style=\"text-align: right;\">        0</td><td style=\"text-align: right;\">0.905155</td><td style=\"text-align: right;\">0.0948445</td></tr>\n",
       "<tr><td style=\"text-align: right;\">        1</td><td style=\"text-align: right;\">0.878944</td><td style=\"text-align: right;\">0.121056 </td></tr>\n",
       "</tbody>\n",
       "</table>"
      ]
     },
     "metadata": {},
     "output_type": "display_data"
    },
    {
     "data": {
      "text/plain": []
     },
     "execution_count": 11,
     "metadata": {},
     "output_type": "execute_result"
    }
   ],
   "source": [
    "# вычисляем спрогнозированные значения и спрогнозированные \n",
    "# вероятности классы зависимой переменной\n",
    "predictions = glm_model.predict(tst)\n",
    "predictions"
   ]
  }
 ],
 "metadata": {
  "kernelspec": {
   "display_name": "Python 3",
   "language": "python",
   "name": "python3"
  },
  "language_info": {
   "codemirror_mode": {
    "name": "ipython",
    "version": 3
   },
   "file_extension": ".py",
   "mimetype": "text/x-python",
   "name": "python",
   "nbconvert_exporter": "python",
   "pygments_lexer": "ipython3",
   "version": "3.7.1"
  }
 },
 "nbformat": 4,
 "nbformat_minor": 2
}
